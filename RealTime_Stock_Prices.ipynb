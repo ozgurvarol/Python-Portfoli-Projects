{
 "cells": [
  {
   "cell_type": "code",
   "execution_count": 62,
   "metadata": {},
   "outputs": [
    {
     "name": "stdout",
     "output_type": "stream",
     "text": [
      "Getting:  VAST.L\n",
      "Getting:  ICON.L\n",
      "Getting:  PREM.L\n",
      "Getting:  BZT.L\n",
      "Fin.\n"
     ]
    }
   ],
   "source": [
    "import pandas as pd\n",
    "import datetime\n",
    "import requests\n",
    "from requests.exceptions import ConnectionError\n",
    "from bs4 import BeautifulSoup\n",
    "import json\n",
    "\n",
    "\n",
    "mystocks = ['VAST.L','ICON.L','PREM.L','BZT.L']\n",
    "stockdata = []\n",
    "\n",
    "def getData(symbol):\n",
    "    headers = {'User-Agent':'Mozilla/5.0 (Windows NT 10.0; Win64; x64) AppleWebKit/537.36 (KHTML, like Gecko) Chrome/100.0.4896.60 Safari/537.36'}\n",
    "    url = f'https://finance.yahoo.com/quote/{symbol}'\n",
    "    r = requests.get(url, headers = headers)\n",
    "    soup = BeautifulSoup(r.text, 'html.parser')\n",
    "    stock = {\n",
    "        'symbol':symbol,\n",
    "        'price':soup.find('div',{'class':'D(ib) Mend(20px)'}).find_all('span')[0].text,\n",
    "        'change':soup.find('div',{'class':'D(ib) Mend(20px)'}).find_all('span')[1].text,\n",
    "    }\n",
    "    return stock\n",
    "    \n",
    "for item in mystocks:\n",
    "    stockdata.append(getData(item))\n",
    "    print('Getting: ',item)\n",
    "    \n",
    "with open('stockdata.json','w') as f:\n",
    "    json.dump(stockdata, f)\n",
    "    \n",
    "print('Fin.')\n",
    "\n",
    "\n",
    "\n",
    "\n"
   ]
  },
  {
   "cell_type": "code",
   "execution_count": null,
   "metadata": {},
   "outputs": [],
   "source": []
  },
  {
   "cell_type": "code",
   "execution_count": null,
   "metadata": {},
   "outputs": [],
   "source": []
  },
  {
   "cell_type": "code",
   "execution_count": null,
   "metadata": {},
   "outputs": [],
   "source": []
  }
 ],
 "metadata": {
  "kernelspec": {
   "display_name": "Python 3",
   "language": "python",
   "name": "python3"
  },
  "language_info": {
   "codemirror_mode": {
    "name": "ipython",
    "version": 3
   },
   "file_extension": ".py",
   "mimetype": "text/x-python",
   "name": "python",
   "nbconvert_exporter": "python",
   "pygments_lexer": "ipython3",
   "version": "3.8.3"
  }
 },
 "nbformat": 4,
 "nbformat_minor": 4
}
